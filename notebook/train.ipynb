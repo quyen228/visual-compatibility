{
  "cells": [
    {
      "cell_type": "code",
      "execution_count": null,
      "metadata": {
        "id": "MDu7J1lwwxWq"
      },
      "outputs": [],
      "source": [
        "from google.colab import drive\n",
        "drive.mount('/content/drive')"
      ]
    },
    {
      "cell_type": "markdown",
      "metadata": {
        "id": "xEbWGOjCwxd9"
      },
      "source": [
        "# Clone repo"
      ]
    },
    {
      "cell_type": "code",
      "execution_count": null,
      "metadata": {
        "id": "eXExkLvZtM6D"
      },
      "outputs": [],
      "source": [
        "!git clone https://github.com/quyen228/visual-compatibility\n",
        "%cd visual-compatibility"
      ]
    },
    {
      "cell_type": "code",
      "execution_count": null,
      "metadata": {
        "id": "jTemUSQQtTER"
      },
      "outputs": [],
      "source": [
        "!pip install -r requirements.txt"
      ]
    },
    {
      "cell_type": "markdown",
      "metadata": {
        "id": "hMce4Fbsw8d2"
      },
      "source": [
        "# Prepare Dataset"
      ]
    },
    {
      "cell_type": "markdown",
      "metadata": {
        "id": "V-TVcLPix0l5"
      },
      "source": [
        "## Download dataset"
      ]
    },
    {
      "cell_type": "markdown",
      "source": [
        "### polyvore"
      ],
      "metadata": {
        "id": "Dj8hvS_JkwqU"
      }
    },
    {
      "cell_type": "code",
      "execution_count": null,
      "metadata": {
        "id": "uQ7cyU-8xmp_"
      },
      "outputs": [],
      "source": [
        "%cd /content/visual-compatibility/data/polyvore\n",
        "\n",
        "import gdown\n",
        "# download jsons \n",
        "gdown.download_folder(url=\"https://drive.google.com/drive/folders/1uQkJTjQdIx88zN9wWVa5Dy-vapN_T4MY?usp=sharing\", quiet=True, use_cookies=False)\n",
        "# download images\n",
        "gdown.download(id=\"1lHOKJz5grywSZl495mB8oJBquLnZrf9Y\")"
      ]
    },
    {
      "cell_type": "markdown",
      "source": [
        "### amazon"
      ],
      "metadata": {
        "id": "2-H2MW2Rkygv"
      }
    },
    {
      "cell_type": "code",
      "source": [
        "# amazon\n",
        "output = \"/content/visual-compatibility/data/amazon/meta_Clothing_Shoes_and_Jewelry.json.gz\"\n",
        "gdown.download(\"https://drive.google.com/u/0/uc?id=1xpwlkYhMEMIscu8kCr_fb7nKUzMa2YsD&export=download\", output=output, quiet=False)"
      ],
      "metadata": {
        "id": "bjwNJhIEkzm6"
      },
      "execution_count": null,
      "outputs": []
    },
    {
      "cell_type": "markdown",
      "metadata": {
        "id": "i0R-9Ul8yhRW"
      },
      "source": [
        "## Extract data"
      ]
    },
    {
      "cell_type": "code",
      "execution_count": null,
      "metadata": {
        "id": "43YjSN6_w-5R"
      },
      "outputs": [],
      "source": [
        "# polyvore\n",
        "!tar -xzvf polyvore-images.tar.gz -C ./"
      ]
    },
    {
      "cell_type": "markdown",
      "metadata": {
        "id": "RVEowwhVym29"
      },
      "source": [
        "## Process data"
      ]
    },
    {
      "cell_type": "markdown",
      "source": [
        "### polyvore"
      ],
      "metadata": {
        "id": "j8qwdbp-h2Bw"
      }
    },
    {
      "cell_type": "code",
      "execution_count": null,
      "metadata": {
        "id": "iNBNa94f-fML"
      },
      "outputs": [],
      "source": [
        "!mkdir dataset\n",
        "!bash ./process_polyvore.sh"
      ]
    },
    {
      "cell_type": "code",
      "execution_count": null,
      "metadata": {
        "id": "s4cgsSKmruJe"
      },
      "outputs": [],
      "source": [
        "# !unzip /content/drive/MyDrive/GRADIENTS/visual_compatibility/31072022/tf2_dataset.zip -d /content\n",
        "# !mv /content/content/visual-compatibility/data/polyvore/dataset/ /content/visual-compatibility/data/polyvore\n",
        "# !rm -r /content/content"
      ]
    },
    {
      "cell_type": "markdown",
      "source": [
        "### amazon"
      ],
      "metadata": {
        "id": "iEi3nyjqk7SO"
      }
    },
    {
      "cell_type": "code",
      "source": [
        "%cd /content/visual-compatibility/data/amazon\n",
        "!bash ./prepare_dataset.sh"
      ],
      "metadata": {
        "id": "kMHVHTTQk9dc"
      },
      "execution_count": null,
      "outputs": []
    },
    {
      "cell_type": "markdown",
      "metadata": {
        "id": "FQcG_7GTyqEw"
      },
      "source": [
        "# Train"
      ]
    },
    {
      "cell_type": "code",
      "execution_count": null,
      "metadata": {
        "id": "QwcfCRcct0S8"
      },
      "outputs": [],
      "source": [
        "%cd /content/visual-compatibility\n",
        "!python train.py -d polyvore"
      ]
    }
  ],
  "metadata": {
    "accelerator": "GPU",
    "colab": {
      "collapsed_sections": [
        "TC6iDSrcLp03",
        "G5LMelT_gbOW"
      ],
      "provenance": []
    },
    "gpuClass": "standard",
    "kernelspec": {
      "display_name": "Python 3",
      "name": "python3"
    },
    "language_info": {
      "name": "python"
    }
  },
  "nbformat": 4,
  "nbformat_minor": 0
}